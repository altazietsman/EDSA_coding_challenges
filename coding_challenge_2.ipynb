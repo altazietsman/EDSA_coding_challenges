{
 "cells": [
  {
   "cell_type": "markdown",
   "metadata": {
    "colab_type": "text",
    "id": "BEQtdLADyxjl"
   },
   "source": [
    "# Basic sorting and list comprehension exercises"
   ]
  },
  {
   "cell_type": "markdown",
   "metadata": {},
   "source": [
    "## Instructions to Students\n",
    "- **Do not add or remove cells in this notebook. Do not edit or remove the `### START FUNCTION` or `### END FUNCTION` comments. Do not add any code outside of the functions you are required to edit. Doing any of this will lead to a mark of 0%!**\n",
    "- Answer the questions according to the specifications provided.\n",
    "- Use the given cell in each question to to see if your function matches the expected outputs.\n",
    "- Do not hard-code answers to the questions.\n",
    "- The use of stackoverflow, google, and other online tools are permitted. However, copying fellow student's code is not permissible and is considered a breach of the Honour code below. Doing this will result in a mark of 0%.\n",
    "- Good luck, and may the force be with you!"
   ]
  },
  {
   "cell_type": "markdown",
   "metadata": {
    "colab_type": "text",
    "id": "G8iqdm-prqDm"
   },
   "source": [
    "### Honour Code"
   ]
  },
  {
   "cell_type": "markdown",
   "metadata": {
    "colab_type": "text",
    "id": "J1sm0HI5rqDp"
   },
   "source": [
    "I **Alta, Saunders**, confirm - by submitting this document - that the solutions in this notebook are a result of my own work and that I abide by the EDSA honour code (https://drive.google.com/file/d/1QDCjGZJ8-FmJE3bZdIQNwnJyQKPhHZBn/view?usp=sharing).  \n",
    "\n",
    "Non-compliance with the honour code constitutes a material breach of contract."
   ]
  },
  {
   "cell_type": "markdown",
   "metadata": {
    "colab_type": "text",
    "id": "lPVIV04qyxj1"
   },
   "source": [
    "## Question 1\n",
    "Given a list of non-empty tuples, return a list sorted in increasing order by the last element in each tuple.<br>\n",
    "e.g. [(1, 7), (1, 3), (3, 4, 5), (2, 2)] yields<br>\n",
    "`[(2, 2), (1, 3), (3, 4, 5), (1, 7)]`<br>\n",
    "A hint if you are stuck, but a challenge if you solved it some other way: use a [custom Key Function](https://wiki.python.org/moin/HowTo/Sorting#Key_Functions) to extract the last element form each tuple. "
   ]
  },
  {
   "cell_type": "code",
   "execution_count": 8,
   "metadata": {
    "colab": {},
    "colab_type": "code",
    "id": "d1TF6aUqyxj2",
    "nbgrader": {
     "grade": false,
     "grade_id": "sort_last",
     "locked": false,
     "schema_version": 1,
     "solution": true
    }
   },
   "outputs": [],
   "source": [
    "### START FUNCTION\n",
    "def sort_last(tuples):    \n",
    "    # your code here\n",
    "    new = sorted(tuples, key=lambda i: i[-1])   \n",
    "    return new\n",
    "### END FUNCTION"
   ]
  },
  {
   "cell_type": "code",
   "execution_count": 2,
   "metadata": {
    "colab": {
     "base_uri": "https://localhost:8080/",
     "height": 35
    },
    "colab_type": "code",
    "executionInfo": {
     "elapsed": 1566,
     "status": "ok",
     "timestamp": 1575365150989,
     "user": {
      "displayName": "Jason Webster",
      "photoUrl": "",
      "userId": "13254939673721675351"
     },
     "user_tz": -120
    },
    "id": "WURnG0LEyxj5",
    "nbgrader": {
     "grade": true,
     "grade_id": "correct_sort_last",
     "locked": true,
     "points": 2,
     "schema_version": 1,
     "solution": false
    },
    "outputId": "812512b6-6963-4540-ad70-64a9ff6fb3d2"
   },
   "outputs": [],
   "source": [
    "sort_last([(1, 7), (1, 3), (3, 4, 5), (2, 2)])"
   ]
  },
  {
   "cell_type": "markdown",
   "metadata": {
    "colab_type": "text",
    "id": "xXPs1hngrqEq"
   },
   "source": [
    "_**Expected Outputs**_ \n",
    "```python\n",
    "sort_last([(1, 7), (1, 3), (3, 4, 5), (2, 2)]) == [(2, 2), (1, 3), (3, 4, 5), (1, 7)]\n",
    "sort_last([(3, 1, 9), (2, 6), (5, 7, 1)]) == [(5, 7, 1), (2, 6), (3, 1, 9)] \n",
    "sort_last([(4, 2), (1, 0, 9), (2, 7), (1, 1, 0), (2, 4, 8)]) == [(1, 1, 0), (4, 2), (2, 7), (2, 4, 8), (1, 0, 9)]\n",
    "sort_last([(51, 13), (71, 29), (55, 91, 9, 1), (23, 101, 0), (41,5)]) == [(23, 101, 0), (55, 91, 9, 1), (41, 5), (51, 13), (71, 29)]\n",
    "sort_last([(39, -10, 2, 0), (57, -9)]) == [(57, -9), (39, -10, 2, 0)]\n",
    "```"
   ]
  },
  {
   "cell_type": "markdown",
   "metadata": {
    "colab_type": "text",
    "id": "rD6HkPYQrqEu"
   },
   "source": [
    "# Question 2\n",
    "\n",
    "Create a function sq_cube which returns a list of lists containing both the square and the cube of only the even numbers in a given list. The function must also be able to round the numbers to the nearest whole number\n",
    "\n",
    "e.g. [1 ,2, 4, 5.6] yields<br>\n",
    "`[[2,8], [16,64], [36,216]]`<br>"
   ]
  },
  {
   "cell_type": "code",
   "execution_count": 7,
   "metadata": {
    "colab": {},
    "colab_type": "code",
    "id": "eDpAboiCrqEv"
   },
   "outputs": [],
   "source": [
    "### START FUNCTION\n",
    "def sq_cube(numbers):\n",
    "    # your code here\n",
    "    list = []\n",
    "    num = [round(x) for x in numbers]\n",
    "    for x in num:\n",
    "        if x % 2 == 0:\n",
    "            sq = x**2\n",
    "            cube = x**3\n",
    "            new = [sq,cube]\n",
    "            list.append(new)\n",
    "    return list\n",
    "### END FUNCTION"
   ]
  },
  {
   "cell_type": "code",
   "execution_count": 4,
   "metadata": {
    "colab": {
     "base_uri": "https://localhost:8080/",
     "height": 35
    },
    "colab_type": "code",
    "executionInfo": {
     "elapsed": 1631,
     "status": "ok",
     "timestamp": 1575366326377,
     "user": {
      "displayName": "Jason Webster",
      "photoUrl": "",
      "userId": "13254939673721675351"
     },
     "user_tz": -120
    },
    "id": "lDtxdhAjrqEz",
    "outputId": "6dfb7583-e77b-468d-eca8-607cded9ff20"
   },
   "outputs": [],
   "source": [
    "sq_cube([1,2,3,4,6])"
   ]
  },
  {
   "cell_type": "markdown",
   "metadata": {
    "colab_type": "text",
    "id": "JhouuBJtrqFF"
   },
   "source": [
    "_**Expected Outputs**_ \n",
    "```python\n",
    "sq_cube([1,2,3,4,6]) == [[4, 8], [16, 64], [36, 216]]\n",
    "sq_cube([1.1, 2.2, 3.3, 4.4, 5.5, 6.6, 7.7, 8.8, 9.9]) == [[4, 8], [16, 64], [36, 216], [64, 512], [100, 1000]]\n",
    "sq_cube([9.80665, 3.141, 1.618033988, 2.41421562]) == [[100, 1000], [4, 8], [4, 8]]\n",
    "sq_cube([50/2, 40/3, 30/4, 20/5, 10/6 ]) == [[64, 512], [16, 64], [4, 8]]\n",
    "```"
   ]
  },
  {
   "cell_type": "markdown",
   "metadata": {
    "colab_type": "text",
    "id": "Nr_Q4rEBrqFI"
   },
   "source": [
    "# Question 2\n",
    "\n",
    "In coding challenge 1, you were introduced to RNA synthesis. DNA differs from RNA because RNA is one strand compared to DNA which is usually a complementary strand. It also differs in that instead of the _U_ nucleotide, it contains a *T*. Here is an example of the different structures taken from https://byjus.com/biology/difference-between-dna-and-rna/:\n",
    "\n",
    "![Difference-Between-DNA-and-RNA.png](attachment:Difference-Between-DNA-and-RNA.png)\n",
    "\n",
    "The same lab was extremely impressed with the first code and now wants a new one. They want to find the complementary strands of DNA. Here is the low-down:\n",
    "\n",
    "* A links with T and vice versa\n",
    "* C links with G and vice versa\n",
    "\n",
    "An example of the complementary strand for the code ATCGGAATGCC is *TAGCCTTACGG*\n",
    "\n",
    "You are tasked to create a function dna_complementary which finds the complementary strand for a given DNA strand based on the above criteria. The function must return a string of the code\n",
    "\n",
    "This kind of code can be really helpful as a product. Imagine trying to get DNA strands for thousands of sequences which are thousands of nucleotides long. This is the power of python and coding!\n",
    "\n",
    "*Hint: We didn't teach you dictionaries for nothing*"
   ]
  },
  {
   "cell_type": "code",
   "execution_count": 5,
   "metadata": {
    "colab": {},
    "colab_type": "code",
    "id": "2pny0a_brqFM"
   },
   "outputs": [],
   "source": [
    "### START FUNCTION\n",
    "def dna_complementary(dna):\n",
    "    new = [x for x in dna]\n",
    "    list = []\n",
    "    list_1 = [\"A\",\"C\",\"T\",\"G\"]\n",
    "    list_2 = [\"T\",\"G\",\"A\",\"C\"]\n",
    "\n",
    "    for i in new:\n",
    "        index = list_1.index(i)\n",
    "        list.append(list_2[index])\n",
    "        new_1 = \"\".join(list)\n",
    "\n",
    "    if len(new) == 0:\n",
    "        return ''\n",
    "    else:\n",
    "        return new_1\n",
    "    \n",
    "### END FUNCTION"
   ]
  },
  {
   "cell_type": "code",
   "execution_count": 6,
   "metadata": {
    "colab": {
     "base_uri": "https://localhost:8080/",
     "height": 35
    },
    "colab_type": "code",
    "executionInfo": {
     "elapsed": 1264,
     "status": "ok",
     "timestamp": 1575366386537,
     "user": {
      "displayName": "Jason Webster",
      "photoUrl": "",
      "userId": "13254939673721675351"
     },
     "user_tz": -120
    },
    "id": "p3aMONaSrqFO",
    "outputId": "5e84d0b2-5d87-4763-def2-651d320c74df"
   },
   "outputs": [],
   "source": [
    "dna_complementary('ATCTTATAATTACCGAGTCGATCGG')"
   ]
  },
  {
   "cell_type": "markdown",
   "metadata": {
    "colab_type": "text",
    "id": "rhkyIN_ErqFo"
   },
   "source": [
    "_**Expected Outputs**_ \n",
    "```python\n",
    "dna_complementary('ATCGGAATGCC') == 'TAGCCTTACGG'\n",
    "dna_complementary('TCCCGGATCGCATACGAT') == 'AGGGCCTAGCGTATGCTA'\n",
    "dna_complementary('ATCTTATAATTACCGAGTCGATCGG') == 'TAGAATATTAATGGCTCAGCTAGCC'\n",
    "dna_complementary('ATCGGACTACGA') == 'TAGCCTGATGCT'\n",
    "```"
   ]
  },
  {
   "cell_type": "markdown",
   "metadata": {
    "colab_type": "text",
    "id": "Vm13pjSjyxkI"
   },
   "source": [
    "# References"
   ]
  },
  {
   "cell_type": "markdown",
   "metadata": {
    "colab_type": "text",
    "id": "OxjO59-2yxkJ"
   },
   "source": [
    "This tutorial was created using the wonderful [Google Python Developers](https://developers.google.com/edu/python/) course, and has been modified under the [Creative Common's licence 2.5](https://creativecommons.org/licenses/by/2.5/) "
   ]
  },
  {
   "cell_type": "markdown",
   "metadata": {
    "colab_type": "text",
    "id": "Y5w2IupiyxkJ"
   },
   "source": [
    "Copyright 2010 Google Inc.\n",
    "Licensed under the Apache License, Version 2.0\n",
    "http://www.apache.org/licenses/LICENSE-2.0\n",
    "\n",
    "Google's Python Class\n",
    "http://code.google.com/edu/languages/google-python-class/"
   ]
  }
 ],
 "metadata": {
  "celltoolbar": "Create Assignment",
  "colab": {
   "collapsed_sections": [],
   "name": "coding_challenge_2.ipynb",
   "provenance": []
  },
  "kernelspec": {
   "display_name": "Python 3",
   "language": "python",
   "name": "python3"
  },
  "language_info": {
   "codemirror_mode": {
    "name": "ipython",
    "version": 3
   },
   "file_extension": ".py",
   "mimetype": "text/x-python",
   "name": "python",
   "nbconvert_exporter": "python",
   "pygments_lexer": "ipython3",
   "version": "3.8.3"
  },
  "toc": {
   "base_numbering": 1,
   "nav_menu": {},
   "number_sections": true,
   "sideBar": true,
   "skip_h1_title": false,
   "title_cell": "Table of Contents",
   "title_sidebar": "Contents",
   "toc_cell": false,
   "toc_position": {
    "height": "calc(100% - 180px)",
    "left": "10px",
    "top": "150px",
    "width": "384px"
   },
   "toc_section_display": true,
   "toc_window_display": true
  }
 },
 "nbformat": 4,
 "nbformat_minor": 1
}
