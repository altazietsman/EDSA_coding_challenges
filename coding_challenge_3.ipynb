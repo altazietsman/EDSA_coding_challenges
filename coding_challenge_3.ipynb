{
 "cells": [
  {
   "cell_type": "markdown",
   "metadata": {
    "colab_type": "text",
    "id": "IhFFnIhnHXSu"
   },
   "source": [
    "# List exercises"
   ]
  },
  {
   "cell_type": "markdown",
   "metadata": {},
   "source": [
    "## Instructions to Students\n",
    "- **Do not add or remove cells in this notebook. Do not edit or remove the `### START FUNCTION` or `### END FUNCTION` comments. Do not add any code outside of the functions you are required to edit. Doing any of this will lead to a mark of 0%!**\n",
    "- Answer the questions according to the specifications provided.\n",
    "- Use the given cell in each question to to see if your function matches the expected outputs.\n",
    "- Do not hard-code answers to the questions.\n",
    "- The use of stackoverflow, google, and other online tools are permitted. However, copying fellow student's code is not permissible and is considered a breach of the Honour code below. Doing this will result in a mark of 0%.\n",
    "- Good luck, and may the force be with you!"
   ]
  },
  {
   "cell_type": "markdown",
   "metadata": {
    "colab_type": "text",
    "id": "Vsae6zuJHofK"
   },
   "source": [
    "### Honour Code\n",
    "\n",
    "I **Alta, Saunders**, confirm - by submitting this document - that the solutions in this notebook are a result of my own work and that I abide by the EDSA honour code [click](https://drive.google.com/file/d/1QDCjGZJ8-FmJE3bZdIQNwnJyQKPhHZBn/view?usp=sharing).  \n",
    "\n",
    "Non-compliance with the honour code constitutes a material breach of contract."
   ]
  },
  {
   "cell_type": "markdown",
   "metadata": {
    "colab_type": "text",
    "id": "GMELowLvIbJW"
   },
   "source": [
    "### Question 1\n",
    "\n",
    "Given a list of numbers, return a list where all equal elements reduce to a single element if they are adjacent (next to each other). Example `[1, 2, 2, 3]` returns `[1, 2, 3]`, and `[1,2,2,3,3,1]` returns `[1,2,3,1]` (The `1s` are not adjacent, so they both stay). You may create a new list or modify the passed in list."
   ]
  },
  {
   "cell_type": "code",
   "execution_count": 7,
   "metadata": {
    "colab": {},
    "colab_type": "code",
    "id": "Ev300EyghxyA"
   },
   "outputs": [
    {
     "data": {
      "text/plain": [
       "[1, 2, 3]"
      ]
     },
     "execution_count": 7,
     "metadata": {},
     "output_type": "execute_result"
    }
   ],
   "source": [
    "### START FUNCTION\n",
    "def remove_adjacent(nums):\n",
    "    if len(nums) > 0:\n",
    "        list=nums+[nums[-1]+1, nums[-1]+2]\n",
    "        new = []\n",
    "        for i in range(len(nums)):\n",
    "            if nums[i] != list[i+1]:\n",
    "                new.append(nums[i])\n",
    "        return new\n",
    "    else:\n",
    "        return nums\n",
    "### END FUNCTION"
   ]
  },
  {
   "cell_type": "markdown",
   "metadata": {
    "colab_type": "text",
    "id": "Rwlg1UFkI_Tk"
   },
   "source": [
    "Be sure to preserve the order (see below) and ensure that your code passes the assertions below:"
   ]
  },
  {
   "cell_type": "code",
   "execution_count": 2,
   "metadata": {
    "colab": {
     "base_uri": "https://localhost:8080/",
     "height": 35
    },
    "colab_type": "code",
    "executionInfo": {
     "elapsed": 1342,
     "status": "ok",
     "timestamp": 1575372930108,
     "user": {
      "displayName": "Jason Webster",
      "photoUrl": "",
      "userId": "13254939673721675351"
     },
     "user_tz": -120
    },
    "id": "mbwA6WDWJAO2",
    "outputId": "3eebf5e9-8fc3-4bac-aac3-88b5c0eea50c"
   },
   "outputs": [],
   "source": [
    "remove_adjacent([1, 2, 2, 3])"
   ]
  },
  {
   "cell_type": "markdown",
   "metadata": {
    "colab_type": "text",
    "id": "JXcVProo6yC0"
   },
   "source": [
    "_**Expected Outputs**_ \n",
    "```python\n",
    "remove_adjacent([1, 2, 2, 3]) == [1, 2, 3]\n",
    "remove_adjacent([1, 2, 2, 2, 3, 3]) == [1, 2, 3]\n",
    "remove_adjacent([27, -5, 13, 13, 0]) == [27, -5, 13, 0]\n",
    "remove_adjacent([1, 1, 1, 5, 5, 5, 9, 9, 13, 13, 5 ]) == [1, 5, 9, 13, 5]\n",
    "remove_adjacent([9, 7, 14, 7, 7]) == [9, 7, 14, 7]\n",
    "```"
   ]
  },
  {
   "cell_type": "markdown",
   "metadata": {
    "colab_type": "text",
    "id": "KAuM_lAAJjHt"
   },
   "source": [
    "### Question 2\n",
    "\n",
    "Write a function called square_odd that has one parameter. Your function must calculate the square of each odd number in a list.\n",
    "\n",
    "Return a Python 3 list containing the squared values\n",
    "\n",
    "Challenge yourself: Solve this problem with a list comprehension!"
   ]
  },
  {
   "cell_type": "code",
   "execution_count": 3,
   "metadata": {
    "colab": {},
    "colab_type": "code",
    "id": "PntmLnJRJ81N"
   },
   "outputs": [],
   "source": [
    "### START FUNCTION\n",
    "def square_odd(pylist):\n",
    "    new = []\n",
    "    for x in pylist:\n",
    "        if x % 2 == 1:\n",
    "            new.append(x**2)\n",
    "    return new\n",
    "### END FUNCTION"
   ]
  },
  {
   "cell_type": "code",
   "execution_count": 4,
   "metadata": {
    "colab": {
     "base_uri": "https://localhost:8080/",
     "height": 35
    },
    "colab_type": "code",
    "executionInfo": {
     "elapsed": 1334,
     "status": "ok",
     "timestamp": 1575372930115,
     "user": {
      "displayName": "Jason Webster",
      "photoUrl": "",
      "userId": "13254939673721675351"
     },
     "user_tz": -120
    },
    "id": "Vy_IM_KDKAtH",
    "outputId": "22cf6a22-92d7-4d19-f8cf-7a1e9aaace4e"
   },
   "outputs": [
    {
     "name": "stdout",
     "output_type": "stream",
     "text": [
      "None\n"
     ]
    }
   ],
   "source": [
    "print(square_odd([-1,-2,-3,-4,4,5,66,77,88,99,0,123,234,345,456]))"
   ]
  },
  {
   "cell_type": "markdown",
   "metadata": {
    "colab_type": "text",
    "id": "4nitB3yU6efz"
   },
   "source": [
    "_**Expected Output :**_\n",
    "```python\n",
    "square_odd([-1,-2,-3,-4,4,5,66,77,88,99,0,123,234,345,456]) == [1, 9, 25, 5929, 9801, 15129, 119025]\n",
    "square_odd([-2,-4, 6, 5, -8]) == [25]\n",
    "square_odd([1,2,3,4,-5]) == [1, 9, 25]\n",
    "square_odd([100, 200, 300, -2]) == []\n",
    "```"
   ]
  },
  {
   "cell_type": "markdown",
   "metadata": {
    "colab_type": "text",
    "id": "5Mekv-GRLAfL"
   },
   "source": [
    "###Question 3\n",
    "\n",
    "**Finding the Sum of a Symmetrical Sub-List**\n",
    "\n",
    "**Task:** Create a function called symmetrical_sum which takes a Python list of integers as input and searches for a 'symmetrical' inner-portion of the list. Here symmetry is said to occur if the value of the  ith  element from the start of the list is equal to the value of the  ith  value from the end of the list. The inner-portion then consists of all elements between and including these equal values. If found, the function returns both the symmetrical part of the list, as well as the sum of its constituent elements as a tuple.\n",
    "\n",
    "Function arguments: lst - a Python list containing elements of type int. Note: len(lst)  â‰¥0 \n",
    "Returns: A Python tuple of the form ([symmetrical-portion], sum-of-symmetrical-portion)\n",
    "\n",
    "**Example:** symmetrical_sum([10,8,7,5,9,8,15]) == ([8, 7, 5, 9, 8], 37). Here a symmetrical portion of the list is formed by the elements at the second and second-last index, which share a value of 8. The function returns this symmetrical portion, as well as its sum of 37 within a a single tuple."
   ]
  },
  {
   "cell_type": "code",
   "execution_count": 11,
   "metadata": {
    "colab": {},
    "colab_type": "code",
    "id": "RCLHOoRfLiZT"
   },
   "outputs": [
    {
     "data": {
      "text/plain": [
       "[]"
      ]
     },
     "execution_count": 11,
     "metadata": {},
     "output_type": "execute_result"
    }
   ],
   "source": [
    "### START FUNCTION\n",
    "def symmetrical_sum(a):\n",
    "    if len(a) > 0:\n",
    "        while a[0] != a[-1]:\n",
    "            del a[0]\n",
    "            del a[-1]\n",
    "        return (a, sum(a))\n",
    "    else:\n",
    "        return (a,0)\n",
    "### END FUNCTION"
   ]
  },
  {
   "cell_type": "code",
   "execution_count": 6,
   "metadata": {
    "colab": {
     "base_uri": "https://localhost:8080/",
     "height": 35
    },
    "colab_type": "code",
    "executionInfo": {
     "elapsed": 1320,
     "status": "ok",
     "timestamp": 1575372930118,
     "user": {
      "displayName": "Jason Webster",
      "photoUrl": "",
      "userId": "13254939673721675351"
     },
     "user_tz": -120
    },
    "id": "cpWRAi1eLkXa",
    "outputId": "de04b2f0-4187-41c4-e667-5ef8242b619d"
   },
   "outputs": [],
   "source": [
    "symmetrical_sum([19,13,22,41,5,18,22,15,46])"
   ]
  },
  {
   "cell_type": "markdown",
   "metadata": {
    "colab_type": "text",
    "id": "6sCMqdDa7Al7"
   },
   "source": [
    "_**Expected Output**_ \n",
    "``` python\n",
    "symmetrical_sum([19,13,22,41,5,18,22,15,46]) == ([22, 41, 5, 18, 22], 108) \n",
    "symmetrical_sum([1,2,3,4,5,6,7,8,9]) == ([5], 5)\n",
    "symmetrical_sum([10,11,12,11,12]) == ([11, 12, 11], 34)\n",
    "symmetrical_sum([9,99,88,8,77,7,77,8,88,10,100]) == ([88, 8, 77, 7, 77, 8, 88], 353)\n",
    "```"
   ]
  },
  {
   "cell_type": "markdown",
   "metadata": {
    "colab_type": "text",
    "id": "SNrxkYsLL1Mq"
   },
   "source": [
    "## References\n",
    "\n",
    "Parts of this tutorial was created using the wonderful [Google Python Developers](https://developers.google.com/edu/python/) course, and has been modified under the [Creative Common's licence 2.5](https://creativecommons.org/licenses/by/2.5/) \n",
    "\n",
    "Copyright 2010 Google Inc.\n",
    "Licensed under the Apache License, Version 2.0\n",
    "http://www.apache.org/licenses/LICENSE-2.0\n",
    "\n",
    "Google's Python Class\n",
    "http://code.google.com/edu/languages/google-python-class/"
   ]
  },
  {
   "cell_type": "code",
   "execution_count": null,
   "metadata": {
    "colab": {},
    "colab_type": "code",
    "id": "WrGwYS-FozyH"
   },
   "outputs": [],
   "source": []
  }
 ],
 "metadata": {
  "accelerator": "GPU",
  "colab": {
   "collapsed_sections": [],
   "name": "coding_challenge_3.ipynb",
   "provenance": []
  },
  "kernelspec": {
   "display_name": "Python 3",
   "language": "python",
   "name": "python3"
  },
  "language_info": {
   "codemirror_mode": {
    "name": "ipython",
    "version": 3
   },
   "file_extension": ".py",
   "mimetype": "text/x-python",
   "name": "python",
   "nbconvert_exporter": "python",
   "pygments_lexer": "ipython3",
   "version": "3.8.3"
  }
 },
 "nbformat": 4,
 "nbformat_minor": 1
}
